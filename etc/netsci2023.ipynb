{
  "cells": [
    {
      "cell_type": "raw",
      "metadata": {},
      "source": [
        "---\n",
        "title: \"Call for action and timescale separation in the co-evolution of contagions and institutions\"\n",
        "format: \n",
        "  revealjs:\n",
        "    theme: default\n",
        "    logo: etc/vermont_CSDS.png\n",
        "    css: etc/style.css\n",
        "    footer: \"Netsci 2023\"\n",
        "editor: visual\n",
        "---"
      ],
      "id": "3046fe17"
    },
    {
      "cell_type": "markdown",
      "metadata": {},
      "source": [
        "## Group-based model\n",
        "\n",
        "![](etc/schema2b.svg){fig-align=\"center\"}\n",
        "\n",
        "## Group-based model\n",
        "\n",
        "![](etc/schema2.svg){fig-align=\"center\"}\n",
        "\n",
        "## Slide with code\n"
      ],
      "id": "44d8e59d"
    },
    {
      "cell_type": "code",
      "metadata": {},
      "source": [
        "#|eval: false\n",
        "function source_sink2!(du, u, p, t)\n",
        "    G, L, n = u, length(u.x), length(first(u.x))\n",
        "    β, ξ, α, γ, ρ, η, b, c, μ = p\n",
        "    Z, pop, R = zeros(L), zeros(L), 0.\n",
        "\n",
        "    # Calculate mean-field coupling and observed fitness landscape\n",
        "    for ℓ in 1:L\n",
        "        n_adopt = collect(0:(n-1))\n",
        "        Z[ℓ]    = sum(exp.(b*n_adopt .- c*(ℓ-1)) .* G.x[ℓ]) \n",
        "        pop[ℓ]  = sum(G.x[ℓ])\n",
        "        R      += sum(ρ * n_adopt .* G.x[ℓ]) \n",
        "        pop[ℓ] > 0.0 && ( Z[ℓ] /= pop[ℓ] ) \n",
        "      end\n",
        "      \n",
        "      for ℓ = 1:L, i = 1:n\n",
        "        n_adopt, gr_size = i-1, n-1\n",
        "        # Diffusion events\n",
        "        du.x[ℓ][i] = -γ*n_adopt*G.x[ℓ][i] - β*(ℓ^-α)*g(n_adopt+R, ξ=ξ)*(gr_size-n_adopt)*G.x[ℓ][i]\n",
        "        n_adopt > 0 && ( du.x[ℓ][i] += β*(ℓ^-α)*g(n_adopt-1+R, ξ=ξ)*(gr_size-n_adopt+1)*G.x[ℓ][i-1])\n",
        "        n_adopt < gr_size && ( du.x[ℓ][i] +=  γ*(n_adopt+1)*G.x[ℓ][i+1] )\n",
        "        # Group selection process\n",
        "        ℓ > 1 && ( du.x[ℓ][i] += η*G.x[ℓ-1][i]*(Z[ℓ] / Z[ℓ-1] + μ) - η*G.x[ℓ][i]*(Z[ℓ-1] / Z[ℓ] + μ) )\n",
        "        ℓ < L && ( du.x[ℓ][i] += η*G.x[ℓ+1][i]*(Z[ℓ] / Z[ℓ+1] + μ) - η*G.x[ℓ][i]*(Z[ℓ+1] / Z[ℓ] + μ) )\n",
        "      end\n",
        "end"
      ],
      "id": "d4a33d77",
      "execution_count": null,
      "outputs": []
    }
  ],
  "metadata": {
    "kernelspec": {
      "name": "julia-1.9",
      "language": "julia",
      "display_name": "Julia 1.9.0-rc2"
    }
  },
  "nbformat": 4,
  "nbformat_minor": 5
}